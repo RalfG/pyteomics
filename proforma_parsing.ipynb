{
 "cells": [
  {
   "cell_type": "code",
   "execution_count": 2,
   "metadata": {},
   "outputs": [],
   "source": [
    "import re\n",
    "from collections import namedtuple, defaultdict\n",
    "\n",
    "try:\n",
    "    from enum import Enum\n",
    "except ImportError:\n",
    "    # Python 2 doesn't have a builtin Enum type\n",
    "    Enum = object\n",
    "\n",
    "from six import add_metaclass\n",
    "\n",
    "from pyteomics import parser"
   ]
  },
  {
   "cell_type": "code",
   "execution_count": 40,
   "metadata": {},
   "outputs": [],
   "source": [
    "import importlib\n",
    "from pyteomics import proforma\n",
    "importlib.reload(proforma)\n",
    "\n",
    "tokenize_proforma = proforma.parse_proforma\n",
    "format_proforma = proforma.to_proforma"
   ]
  },
  {
   "cell_type": "code",
   "execution_count": 41,
   "metadata": {},
   "outputs": [],
   "source": [
    "seq, props = proforma.parse_proforma(\"{Glycan:Hex 1 HexNAc 2 NeuAc 1}STYGIAN\")"
   ]
  },
  {
   "cell_type": "code",
   "execution_count": 43,
   "metadata": {},
   "outputs": [],
   "source": [
    "p = proforma.ProForma.parse(\"{Glycan:Hex1HexNAc2NeuAc1#g1}S[#g1]T[#g1]YGIANS[#g1]EQ\")"
   ]
  },
  {
   "cell_type": "code",
   "execution_count": 48,
   "metadata": {},
   "outputs": [
    {
     "output_type": "execute_result",
     "data": {
      "text/plain": [
       "{'n_term': None,\n",
       " 'c_term': None,\n",
       " 'unlocalized_modifications': [],\n",
       " 'labile_modifications': [GlycanModification('Hex1HexNAc2NeuAc1', None, None)],\n",
       " 'fixed_modifications': [],\n",
       " 'intervals': [],\n",
       " 'isotopes': [],\n",
       " 'group_ids': []}"
      ]
     },
     "metadata": {},
     "execution_count": 48
    }
   ],
   "source": [
    "p.properties"
   ]
  },
  {
   "cell_type": "code",
   "execution_count": 25,
   "metadata": {},
   "outputs": [
    {
     "output_type": "execute_result",
     "data": {
      "text/plain": [
       "1"
      ]
     },
     "metadata": {},
     "execution_count": 25
    }
   ],
   "source": []
  },
  {
   "cell_type": "code",
   "execution_count": 12,
   "metadata": {},
   "outputs": [
    {
     "output_type": "execute_result",
     "data": {
      "text/plain": [
       "{'mass': 841.2962353162999,\n",
       " 'composition': Composition({'C': 29, 'H': 51, 'O': 22, 'N': 3}),\n",
       " 'name': 'Hex 1 HexNAc 2 NeuAc 1',\n",
       " 'monosaccharides': BasicComposition({'Hex': 1, 'HexNAc': 2, 'NeuAc': 1})}"
      ]
     },
     "metadata": {},
     "execution_count": 12
    }
   ],
   "source": []
  },
  {
   "cell_type": "code",
   "execution_count": 120,
   "metadata": {},
   "outputs": [
    {
     "output_type": "execute_result",
     "data": {
      "text/plain": [
       "([('S', None),\n",
       "  ('T', UnimodModification('Oxidation', None, None)),\n",
       "  ('E', None),\n",
       "  ('P', None),\n",
       "  ('P', None),\n",
       "  ('I', None),\n",
       "  ('N', None),\n",
       "  ('G', None)],\n",
       " {'n_term': GenericModification('Hex', None, None),\n",
       "  'c_term': None,\n",
       "  'unlocalized_modifications': [GenericModification('Hydroxyl', None, None)],\n",
       "  'labile_modifications': [GenericModification('HexNAc', None, None)],\n",
       "  'fixed_modifications': [ModificationRule(GenericModification('Carbamidomethyl', None, None), ['C'])],\n",
       "  'intervals': [TaggedInterval(2, 5, +18.15)],\n",
       "  'isotopes': [StableIsotope(13C)],\n",
       "  'group_ids': []})"
      ]
     },
     "metadata": {},
     "execution_count": 120
    }
   ],
   "source": [
    "seq, fields = tokenize_proforma(\"<[Carbamidomethyl]@C><13C>[Hydroxyl]?{HexNAc}[Hex]-ST[U:Oxidation](EPP)[+18.15]ING\")\n",
    "seq, fields"
   ]
  },
  {
   "cell_type": "code",
   "execution_count": 121,
   "metadata": {},
   "outputs": [
    {
     "output_type": "execute_result",
     "data": {
      "text/plain": [
       "'<[Carbamidomethyl]@C><13C>[Hydroxyl]?{HexNAc}[Hex]-ST[UNIMOD:Oxidation](EPP)[+18.15]ING'"
      ]
     },
     "metadata": {},
     "execution_count": 121
    }
   ],
   "source": [
    "format_proforma(seq, **fields)"
   ]
  },
  {
   "cell_type": "code",
   "execution_count": 119,
   "metadata": {},
   "outputs": [
    {
     "output_type": "execute_result",
     "data": {
      "text/plain": [
       "'1010100.00001'"
      ]
     },
     "metadata": {},
     "execution_count": 119
    }
   ],
   "source": [
    "'1010100.00001'.rstrip('0').rstrip('.')"
   ]
  },
  {
   "cell_type": "code",
   "execution_count": 67,
   "metadata": {},
   "outputs": [
    {
     "output_type": "execute_result",
     "data": {
      "text/plain": [
       "([('S', None),\n",
       "  ('E', None),\n",
       "  ('P', None),\n",
       "  ('P', None),\n",
       "  ('I', None),\n",
       "  ('N', None),\n",
       "  ('G', None)],\n",
       " {'n_term': None,\n",
       "  'c_term': None,\n",
       "  'unlocalized_modifications': [],\n",
       "  'labile_modifications': [],\n",
       "  'fixed_modifications': [],\n",
       "  'intervals': [TaggedInterval(1, 4, 18.0000)],\n",
       "  'isotopes': [],\n",
       "  'group_ids': []})"
      ]
     },
     "metadata": {},
     "execution_count": 67
    }
   ],
   "source": [
    "seq, fields = tokenize_proforma(\"S(EPP)[+18]ING\")\n",
    "seq, fields"
   ]
  },
  {
   "cell_type": "code",
   "execution_count": 69,
   "metadata": {},
   "outputs": [
    {
     "output_type": "execute_result",
     "data": {
      "text/plain": [
       "([('E', None),\n",
       "  ('M', GenericModification('Oxidation', None, None)),\n",
       "  ('E', None),\n",
       "  ('V', None),\n",
       "  ('T', LocalizationMarker(0.01, None, '#s1')),\n",
       "  ('S', LocalizationMarker(0.09, None, '#s1')),\n",
       "  ('E', None),\n",
       "  ('S', LocalizationMarker(0.9, None, '#s1')),\n",
       "  ('P', None),\n",
       "  ('E', None),\n",
       "  ('K', None)],\n",
       " {'n_term': None,\n",
       "  'c_term': None,\n",
       "  'unlocalized_modifications': [GenericModification('Phospho', [], '#s1')],\n",
       "  'labile_modifications': [],\n",
       "  'fixed_modifications': [],\n",
       "  'intervals': [],\n",
       "  'isotopes': [],\n",
       "  'group_ids': ['#s1']})"
      ]
     },
     "metadata": {},
     "execution_count": 69
    }
   ],
   "source": [
    "tokenize_proforma(\"[Phospho#s1]?EM[Oxidation]EVT[#s1(0.01)]S[#s1(0.09)]ES[#s1(0.90)]PEK\")"
   ]
  },
  {
   "cell_type": "code",
   "execution_count": 234,
   "metadata": {},
   "outputs": [
    {
     "output_type": "execute_result",
     "data": {
      "text/plain": [
       "([('E', None),\n",
       "  ('M', GenericModification('Oxidation', None, None)),\n",
       "  ('E', None),\n",
       "  ('V', None),\n",
       "  ('T', LocalizationMarker(0.01, None, '#g1')),\n",
       "  ('S', LocalizationMarker(0.09, None, '#g1')),\n",
       "  ('E', None),\n",
       "  ('S',\n",
       "   GenericModification('Phospho', [LocalizationMarker(0.9, None, '#g1')], '#g1')),\n",
       "  ('P', None),\n",
       "  ('E', None),\n",
       "  ('K', None)],\n",
       " {'n_term': None,\n",
       "  'c_term': None,\n",
       "  'unlocalized_modifications': [],\n",
       "  'labile_modifications': [],\n",
       "  'fixed_modifications': [],\n",
       "  'intervals': [],\n",
       "  'isotopes': [],\n",
       "  'group_ids': ['#g1']})"
      ]
     },
     "metadata": {},
     "execution_count": 234
    }
   ],
   "source": [
    "tokenize_proforma(\"EM[Oxidation]EVT[#g1(0.01)]S[#g1(0.09)]ES[Phospho#g1(0.90)]PEK\")"
   ]
  },
  {
   "cell_type": "code",
   "execution_count": 235,
   "metadata": {},
   "outputs": [
    {
     "output_type": "execute_result",
     "data": {
      "text/plain": [
       "([('E', None),\n",
       "  ('M', None),\n",
       "  ('E', None),\n",
       "  ('V', None),\n",
       "  ('T', LocalizationMarker(0.01, None, '#g1')),\n",
       "  ('S', LocalizationMarker(0.09, None, '#g1')),\n",
       "  ('E', None),\n",
       "  ('S',\n",
       "   GlycanModification('HexNAc 1', [LocalizationMarker(0.9, None, '#g1')], '#g1')),\n",
       "  ('P', None),\n",
       "  ('E', None),\n",
       "  ('K', None)],\n",
       " {'n_term': None,\n",
       "  'c_term': None,\n",
       "  'unlocalized_modifications': [],\n",
       "  'labile_modifications': [],\n",
       "  'fixed_modifications': [],\n",
       "  'intervals': [],\n",
       "  'isotopes': [],\n",
       "  'group_ids': ['#g1']})"
      ]
     },
     "metadata": {},
     "execution_count": 235
    }
   ],
   "source": [
    "tokenize_proforma(\"EMEVT[#g1(0.01)]S[#g1(0.09)]ES[Glycan:HexNAc 1#g1(0.90)]PEK\")"
   ]
  },
  {
   "cell_type": "code",
   "execution_count": null,
   "metadata": {},
   "outputs": [],
   "source": []
  }
 ],
 "metadata": {
  "kernelspec": {
   "name": "python3",
   "display_name": "Python 3.8.5 64-bit ('py38': conda)",
   "metadata": {
    "interpreter": {
     "hash": "486495e7f81c8f11fe15f00929ebabe524f3fb730012655e6ba0fbdcd165e71e"
    }
   }
  },
  "language_info": {
   "codemirror_mode": {
    "name": "ipython",
    "version": 3
   },
   "file_extension": ".py",
   "mimetype": "text/x-python",
   "name": "python",
   "nbconvert_exporter": "python",
   "pygments_lexer": "ipython3",
   "version": "3.8.5-final"
  }
 },
 "nbformat": 4,
 "nbformat_minor": 4
}